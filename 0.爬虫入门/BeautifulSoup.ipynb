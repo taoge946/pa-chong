{
 "metadata": {
  "language_info": {
   "codemirror_mode": {
    "name": "ipython",
    "version": 3
   },
   "file_extension": ".py",
   "mimetype": "text/x-python",
   "name": "python",
   "nbconvert_exporter": "python",
   "pygments_lexer": "ipython3",
   "version": "3.6.13"
  },
  "orig_nbformat": 2,
  "kernelspec": {
   "name": "python3613jvsc74a57bd094de7b195b38939807f6689bc4f6957fbcb452aea6b09d5dc70a51a73a7a5a99",
   "display_name": "Python 3.6.13 64-bit ('face': conda)"
  }
 },
 "nbformat": 4,
 "nbformat_minor": 2,
 "cells": [
  {
   "cell_type": "code",
   "execution_count": 1,
   "metadata": {},
   "outputs": [],
   "source": [
    "from bs4 import BeautifulSoup\n",
    "import re"
   ]
  },
  {
   "cell_type": "code",
   "execution_count": 2,
   "metadata": {},
   "outputs": [
    {
     "output_type": "stream",
     "name": "stdout",
     "text": [
      "<title>css学习</title>\ncss学习\n\n\n{'style': 'background-image:url(内容背景.jpg);background-repeat:repeat-y;background-attachment:fixed;background-size:100%;height:100%;'}\nbackground-image:url(内容背景.jpg);background-repeat:repeat-y;background-attachment:fixed;background-size:100%;height:100%;\n\n\n['\\n', <style type=\"text/css\">\n</style>, '\\n', <title>css学习</title>, '>\\r\\n']\n\n\n<style type=\"text/css\">\n</style>\n"
     ]
    }
   ],
   "source": [
    "with open (\"text.html\",\"rb\") as f:\n",
    "    html=f.read()\n",
    "    bs=BeautifulSoup(html,\"html.parser\")\n",
    "    print(bs.title)\n",
    "    print(bs.title.string)\n",
    "    print(\"\\n\")\n",
    "    print(bs.body.attrs)\n",
    "    print(bs.body.attrs['style'])\n",
    "    print(\"\\n\")\n",
    "    print(bs.head.contents)\n",
    "    print(\"\\n\")\n",
    "    print(bs.head.contents[1])\n",
    "    f.close()"
   ]
  },
  {
   "cell_type": "code",
   "execution_count": 4,
   "metadata": {},
   "outputs": [
    {
     "output_type": "execute_result",
     "data": {
      "text/plain": [
       "[<td>属性</td>,\n",
       " <td>说明</td>,\n",
       " <td>border-collapse</td>,\n",
       " <td>是否把表格边框合并为单一的边框</td>,\n",
       " <td>border-spacing</td>,\n",
       " <td>设置分隔单元格的距离</td>,\n",
       " <td>caption-side</td>,\n",
       " <td>设置表格标题的位置</td>,\n",
       " <td>empty-cells</td>,\n",
       " <td>设置是否显示表格中空的单元格</td>,\n",
       " <td>table-layout</td>,\n",
       " <td>设置显示单元行和列的算法</td>]"
      ]
     },
     "metadata": {},
     "execution_count": 4
    }
   ],
   "source": [
    "bs.find_all(\"td\")\n"
   ]
  },
  {
   "cell_type": "code",
   "execution_count": 16,
   "metadata": {},
   "outputs": [
    {
     "output_type": "execute_result",
     "data": {
      "text/plain": [
       "[<tr>\n",
       " <td>属性</td>\n",
       " <td>说明</td>\n",
       " </tr>,\n",
       " <tr>\n",
       " <td>border-collapse</td>\n",
       " <td>是否把表格边框合并为单一的边框</td>\n",
       " </tr>,\n",
       " <tr>\n",
       " <td>border-spacing</td>\n",
       " <td>设置分隔单元格的距离</td>\n",
       " </tr>,\n",
       " <tr>\n",
       " <td>caption-side</td>\n",
       " <td>设置表格标题的位置</td>\n",
       " </tr>,\n",
       " <tr>\n",
       " <td>empty-cells</td>\n",
       " <td>设置是否显示表格中空的单元格</td>\n",
       " </tr>,\n",
       " <tr>\n",
       " <td>table-layout</td>\n",
       " <td>设置显示单元行和列的算法</td>\n",
       " </tr>,\n",
       " <br/>,\n",
       " <br/>,\n",
       " <br/>,\n",
       " <br/>,\n",
       " <br/>,\n",
       " <br/>,\n",
       " <br/>,\n",
       " <br/>]"
      ]
     },
     "metadata": {},
     "execution_count": 16
    }
   ],
   "source": [
    "bs.find_all(re.compile('r'))"
   ]
  },
  {
   "cell_type": "code",
   "execution_count": 11,
   "metadata": {},
   "outputs": [
    {
     "output_type": "execute_result",
     "data": {
      "text/plain": [
       "['属性',\n",
       " '说明',\n",
       " 'border-collapse',\n",
       " '是否把表格边框合并为单一的边框',\n",
       " 'border-spacing',\n",
       " '设置分隔单元格的距离',\n",
       " 'caption-side',\n",
       " '设置表格标题的位置',\n",
       " 'empty-cells',\n",
       " '设置是否显示表格中空的单元格',\n",
       " 'table-layout',\n",
       " '设置显示单元行和列的算法']"
      ]
     },
     "metadata": {},
     "execution_count": 11
    }
   ],
   "source": [
    "re.findall(re.compile(r\"<td>(.*?)</td>\"),str(bs)) #还是直接用正则的好使,bs就用来找到整个网页中所需要的部分，然后再用正则进行提取"
   ]
  },
  {
   "cell_type": "code",
   "execution_count": 27,
   "metadata": {},
   "outputs": [],
   "source": [
    "for i in bs.find_all(\"td\"):\n",
    "    if len(i)>=3:\n",
    "        print(i)"
   ]
  },
  {
   "cell_type": "code",
   "execution_count": null,
   "metadata": {},
   "outputs": [],
   "source": []
  }
 ]
}